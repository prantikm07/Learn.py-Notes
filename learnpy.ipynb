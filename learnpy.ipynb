{
 "cells": [
  {
   "cell_type": "markdown",
   "id": "1b75a32e",
   "metadata": {},
   "source": [
    "## Printing in Python\n",
    "\n",
    "The `print()` function is used to display information or output to the screen. It's one of the most basic functions and is great for getting started with Python."
   ]
  },
  {
   "cell_type": "code",
   "execution_count": 1,
   "id": "8703e0e6",
   "metadata": {},
   "outputs": [
    {
     "name": "stdout",
     "output_type": "stream",
     "text": [
      "Hello World\n"
     ]
    }
   ],
   "source": [
    "print(\"Hello World\")  # This prints the string \"Hello World\" to the screen"
   ]
  },
  {
   "cell_type": "markdown",
   "id": "893cf9d3",
   "metadata": {},
   "source": [
    "## Using Variables in Python\n",
    "\n",
    "Variables are used to store information in a program. Here, we assign a string value to a variable and print it out."
   ]
  },
  {
   "cell_type": "code",
   "execution_count": 2,
   "id": "a0c86d41",
   "metadata": {},
   "outputs": [
    {
     "name": "stdout",
     "output_type": "stream",
     "text": [
      "Hello Prantik!\n"
     ]
    }
   ],
   "source": [
    "n = \"Prantik\"  # Assign the string \"Prantik\" to the variable `n`\n",
    "print(\"Hello \" + n + \"!\")  # Concatenate and print a personalized greeting"
   ]
  },
  {
   "cell_type": "markdown",
   "id": "cd943bbb",
   "metadata": {},
   "source": [
    "## Data Types\n",
    "\n",
    "Python supports different types of variables, including integers, strings, and floats. You can check the type of a variable using the `type()` function."
   ]
  },
  {
   "cell_type": "code",
   "execution_count": 3,
   "id": "386dc9e3",
   "metadata": {},
   "outputs": [
    {
     "name": "stdout",
     "output_type": "stream",
     "text": [
      "123\n",
      "<class 'int'>\n"
     ]
    }
   ],
   "source": [
    "a = 123  # Assign an integer value to `a`\n",
    "b = 78.890 # Assign a float value to `b`\n",
    "c = \"abcd\"\n",
    "d = \"123\"\n",
    "print(a)  # Print the value of `a`\n",
    "print(type(a))  # Print the data type of `a` (should be <class 'int'>)"
   ]
  },
  {
   "cell_type": "markdown",
   "id": "addeedb1",
   "metadata": {},
   "source": [
    "## Math Operations in Python\n",
    "\n",
    "Python supports various mathematical operations. Here, we use the `**` operator to perform exponentiation, raising 5 to the power of 5."
   ]
  },
  {
   "cell_type": "code",
   "execution_count": 4,
   "id": "36696d62",
   "metadata": {},
   "outputs": [
    {
     "name": "stdout",
     "output_type": "stream",
     "text": [
      "125\n",
      "1\n",
      "2\n"
     ]
    }
   ],
   "source": [
    "print(5 ** 3)\n",
    "print(5 // 3)\n",
    "print(5 % 3)"
   ]
  },
  {
   "cell_type": "markdown",
   "id": "e8d2fc9b",
   "metadata": {},
   "source": [
    "## Conditional Statements\n",
    "\n",
    "Conditional statements in Python help control the flow of the program. Using `if`, `elif`, and `else`, you can perform different actions based on specific conditions."
   ]
  },
  {
   "cell_type": "code",
   "execution_count": 5,
   "id": "3dc91481",
   "metadata": {},
   "outputs": [
    {
     "name": "stdout",
     "output_type": "stream",
     "text": [
      "Age is 18\n"
     ]
    }
   ],
   "source": [
    "age = 18  # Assign a value to `age`\n",
    "# Conditional statement to check the value of `age`\n",
    "if age == 20:\n",
    "    print(\"Age is 20\")\n",
    "elif age == 18:\n",
    "    print(\"Age is 18\")\n",
    "else:\n",
    "    print(\"Age is not 20\")\n",
    "# The output will be \"Age is 18\" since age is set to 18"
   ]
  },
  {
   "cell_type": "markdown",
   "metadata": {},
   "source": [
    "### ==, !=, >=, <=, >, <"
   ]
  },
  {
   "cell_type": "code",
   "execution_count": 6,
   "metadata": {
    "colab": {
     "base_uri": "https://localhost:8080/"
    },
    "executionInfo": {
     "elapsed": 487,
     "status": "ok",
     "timestamp": 1730701547631,
     "user": {
      "displayName": "Prantik Mukhopadhyay",
      "userId": "00946905323502396209"
     },
     "user_tz": -330
    },
    "id": "wxqrrN3K1xFw",
    "outputId": "1ae20762-f9fb-49e0-fc98-5e6d9bc9d9c2"
   },
   "outputs": [
    {
     "name": "stdout",
     "output_type": "stream",
     "text": [
      "great\n"
     ]
    }
   ],
   "source": [
    "age = 56\n",
    "if age >= 20:\n",
    "  print(\"great\")\n",
    "else:\n",
    "  print(\"not\")"
   ]
  },
  {
   "cell_type": "markdown",
   "metadata": {},
   "source": [
    "## And / Or"
   ]
  },
  {
   "cell_type": "code",
   "execution_count": 7,
   "metadata": {
    "colab": {
     "base_uri": "https://localhost:8080/"
    },
    "executionInfo": {
     "elapsed": 516,
     "status": "ok",
     "timestamp": 1730701736999,
     "user": {
      "displayName": "Prantik Mukhopadhyay",
      "userId": "00946905323502396209"
     },
     "user_tz": -330
    },
    "id": "i6CTTH5g2jCY",
    "outputId": "dfd08e96-8a17-4373-df1a-8389ca65058b"
   },
   "outputs": [
    {
     "name": "stdout",
     "output_type": "stream",
     "text": [
      "You can ride.\n"
     ]
    }
   ],
   "source": [
    "age = 22\n",
    "h = 120\n",
    "if age >= 20 or h >= 150:\n",
    "  print(\"You can ride.\")\n",
    "else:\n",
    "  print(\"No\")"
   ]
  },
  {
   "cell_type": "markdown",
   "metadata": {},
   "source": [
    "## Using Not"
   ]
  },
  {
   "cell_type": "code",
   "execution_count": 8,
   "metadata": {
    "colab": {
     "base_uri": "https://localhost:8080/"
    },
    "executionInfo": {
     "elapsed": 4,
     "status": "ok",
     "timestamp": 1730701919140,
     "user": {
      "displayName": "Prantik Mukhopadhyay",
      "userId": "00946905323502396209"
     },
     "user_tz": -330
    },
    "id": "ed3PTntD3tmp",
    "outputId": "1e7b0c0a-9999-41ac-a6fe-bbe9e191ade2"
   },
   "outputs": [
    {
     "name": "stdout",
     "output_type": "stream",
     "text": [
      "False\n"
     ]
    }
   ],
   "source": [
    "a = True\n",
    "print(not a)"
   ]
  },
  {
   "cell_type": "code",
   "execution_count": 9,
   "metadata": {
    "colab": {
     "base_uri": "https://localhost:8080/"
    },
    "executionInfo": {
     "elapsed": 509,
     "status": "ok",
     "timestamp": 1730701956448,
     "user": {
      "displayName": "Prantik Mukhopadhyay",
      "userId": "00946905323502396209"
     },
     "user_tz": -330
    },
    "id": "tnCKIbx836hI",
    "outputId": "315f4f63-c539-4f44-b952-c40603a4ba59"
   },
   "outputs": [
    {
     "name": "stdout",
     "output_type": "stream",
     "text": [
      "Not 5\n"
     ]
    }
   ],
   "source": [
    "n = 10\n",
    "if not n == 5:\n",
    "  print(\"Not 5\")"
   ]
  },
  {
   "cell_type": "markdown",
   "metadata": {},
   "source": [
    "## Ternary / IF else in one line"
   ]
  },
  {
   "cell_type": "code",
   "execution_count": 10,
   "metadata": {
    "colab": {
     "base_uri": "https://localhost:8080/"
    },
    "executionInfo": {
     "elapsed": 497,
     "status": "ok",
     "timestamp": 1730702229708,
     "user": {
      "displayName": "Prantik Mukhopadhyay",
      "userId": "00946905323502396209"
     },
     "user_tz": -330
    },
    "id": "UBcioOzd4NNp",
    "outputId": "09035245-e0e1-4648-b59e-e29707ede822"
   },
   "outputs": [
    {
     "name": "stdout",
     "output_type": "stream",
     "text": [
      "Yes\n"
     ]
    }
   ],
   "source": [
    "age = 20\n",
    "print(\"Yes\" if age >= 18 else \"No\")"
   ]
  },
  {
   "cell_type": "code",
   "execution_count": 11,
   "metadata": {
    "colab": {
     "base_uri": "https://localhost:8080/"
    },
    "executionInfo": {
     "elapsed": 2820,
     "status": "ok",
     "timestamp": 1730707022672,
     "user": {
      "displayName": "Prantik Mukhopadhyay",
      "userId": "00946905323502396209"
     },
     "user_tz": -330
    },
    "id": "Dq9HXaCn5U7e",
    "outputId": "d58d9ab7-0416-4d74-b38c-a34d59568f77"
   },
   "outputs": [
    {
     "name": "stdout",
     "output_type": "stream",
     "text": [
      "Odd\n"
     ]
    }
   ],
   "source": [
    "num = int(input(\"Num: \"))\n",
    "if num % 2 == 0:\n",
    "  print(\"Even\")\n",
    "else:\n",
    "  print(\"Odd\")"
   ]
  },
  {
   "cell_type": "code",
   "execution_count": 12,
   "metadata": {
    "colab": {
     "base_uri": "https://localhost:8080/"
    },
    "executionInfo": {
     "elapsed": 497,
     "status": "ok",
     "timestamp": 1730703038034,
     "user": {
      "displayName": "Prantik Mukhopadhyay",
      "userId": "00946905323502396209"
     },
     "user_tz": -330
    },
    "id": "eAnWsNJK8Dg5",
    "outputId": "f74d8c26-3c7b-4ab2-bedf-429fa969b0bd"
   },
   "outputs": [
    {
     "name": "stdout",
     "output_type": "stream",
     "text": [
      "5\n",
      "10\n",
      "15\n",
      "20\n",
      "25\n"
     ]
    }
   ],
   "source": [
    "print(5*1)\n",
    "print(5*2)\n",
    "print(5*3)\n",
    "print(5*4)\n",
    "print(5*5)"
   ]
  },
  {
   "cell_type": "markdown",
   "metadata": {},
   "source": [
    "## Use Loop"
   ]
  },
  {
   "cell_type": "code",
   "execution_count": 13,
   "metadata": {
    "colab": {
     "base_uri": "https://localhost:8080/"
    },
    "executionInfo": {
     "elapsed": 533,
     "status": "ok",
     "timestamp": 1730703508510,
     "user": {
      "displayName": "Prantik Mukhopadhyay",
      "userId": "00946905323502396209"
     },
     "user_tz": -330
    },
    "id": "izDGYjg-8KrY",
    "outputId": "7b958fea-d4ad-4565-bcd7-bcee91c82a61"
   },
   "outputs": [
    {
     "name": "stdout",
     "output_type": "stream",
     "text": [
      "5 x 1 = 5\n",
      "5 x 2 = 10\n",
      "5 x 3 = 15\n",
      "5 x 4 = 20\n",
      "5 x 5 = 25\n",
      "5 x 6 = 30\n",
      "5 x 7 = 35\n",
      "5 x 8 = 40\n",
      "5 x 9 = 45\n",
      "5 x 10 = 50\n"
     ]
    }
   ],
   "source": [
    "for i in range(1, 11): #(start, end+1)\n",
    "  # print(\"5 x \" + str(i) + \" = \" + str(5*i))\n",
    "  print(f\"5 x {i} = {5*i}\") # -- fstring"
   ]
  },
  {
   "cell_type": "code",
   "execution_count": 14,
   "metadata": {
    "colab": {
     "base_uri": "https://localhost:8080/"
    },
    "executionInfo": {
     "elapsed": 495,
     "status": "ok",
     "timestamp": 1730703480239,
     "user": {
      "displayName": "Prantik Mukhopadhyay",
      "userId": "00946905323502396209"
     },
     "user_tz": -330
    },
    "id": "OZo-Wygp9qF0",
    "outputId": "eed3efaf-c181-497e-f774-858cea296a02"
   },
   "outputs": [
    {
     "name": "stdout",
     "output_type": "stream",
     "text": [
      "5 x 1 = 5\n"
     ]
    }
   ],
   "source": [
    "print(f\"5 x 1 = {5*1}\")"
   ]
  },
  {
   "cell_type": "code",
   "execution_count": 15,
   "metadata": {
    "colab": {
     "base_uri": "https://localhost:8080/"
    },
    "executionInfo": {
     "elapsed": 688,
     "status": "ok",
     "timestamp": 1730704054862,
     "user": {
      "displayName": "Prantik Mukhopadhyay",
      "userId": "00946905323502396209"
     },
     "user_tz": -330
    },
    "id": "268QNNew-FwY",
    "outputId": "6729d9f5-b654-43ba-e96f-f1b2ec291d49"
   },
   "outputs": [
    {
     "name": "stdout",
     "output_type": "stream",
     "text": [
      "0\n",
      "5\n",
      "10\n",
      "15\n",
      "20\n",
      "25\n",
      "30\n",
      "35\n",
      "40\n",
      "45\n",
      "50\n"
     ]
    }
   ],
   "source": [
    "for i in range(11):\n",
    "  print(5*i)"
   ]
  },
  {
   "cell_type": "code",
   "execution_count": 16,
   "metadata": {
    "colab": {
     "base_uri": "https://localhost:8080/"
    },
    "executionInfo": {
     "elapsed": 540,
     "status": "ok",
     "timestamp": 1730704155257,
     "user": {
      "displayName": "Prantik Mukhopadhyay",
      "userId": "00946905323502396209"
     },
     "user_tz": -330
    },
    "id": "DNutNsdXASrf",
    "outputId": "1e316ce2-cba9-4741-f1b2-96d71570e977"
   },
   "outputs": [
    {
     "name": "stdout",
     "output_type": "stream",
     "text": [
      "0\n",
      "1\n",
      "2\n",
      "3\n",
      "4\n"
     ]
    }
   ],
   "source": [
    "for i in range(5):\n",
    "  print(i)"
   ]
  },
  {
   "cell_type": "code",
   "execution_count": 17,
   "metadata": {
    "colab": {
     "base_uri": "https://localhost:8080/"
    },
    "executionInfo": {
     "elapsed": 559,
     "status": "ok",
     "timestamp": 1730704593117,
     "user": {
      "displayName": "Prantik Mukhopadhyay",
      "userId": "00946905323502396209"
     },
     "user_tz": -330
    },
    "id": "ntlNTMu7AoFF",
    "outputId": "c75e36cb-129e-4315-8723-515f0340ba65"
   },
   "outputs": [
    {
     "name": "stdout",
     "output_type": "stream",
     "text": [
      "0\n",
      "3\n",
      "6\n",
      "9\n"
     ]
    }
   ],
   "source": [
    "i = 0\n",
    "while i < 10:\n",
    "  print(i)\n",
    "  # i = i + 3\n",
    "  i += 3"
   ]
  },
  {
   "cell_type": "code",
   "execution_count": 18,
   "metadata": {
    "colab": {
     "base_uri": "https://localhost:8080/"
    },
    "executionInfo": {
     "elapsed": 507,
     "status": "ok",
     "timestamp": 1730705578074,
     "user": {
      "displayName": "Prantik Mukhopadhyay",
      "userId": "00946905323502396209"
     },
     "user_tz": -330
    },
    "id": "Lts_erFCE82R",
    "outputId": "2a7e07cd-238c-4b52-abcd-3a889908b4a2"
   },
   "outputs": [
    {
     "name": "stdout",
     "output_type": "stream",
     "text": [
      "0\n",
      "1\n",
      "2\n",
      "3\n",
      "4\n",
      "6\n",
      "7\n",
      "8\n",
      "9\n",
      "-----------------\n",
      "9\n"
     ]
    }
   ],
   "source": [
    "for i in range(10):\n",
    "  if i == 5:\n",
    "    continue\n",
    "  print(i)\n",
    "\n",
    "print(\"-----------------\")\n",
    "print(i)"
   ]
  },
  {
   "cell_type": "markdown",
   "metadata": {},
   "source": [
    "## List / Set / Tuple"
   ]
  },
  {
   "cell_type": "code",
   "execution_count": 19,
   "metadata": {
    "colab": {
     "base_uri": "https://localhost:8080/"
    },
    "executionInfo": {
     "elapsed": 493,
     "status": "ok",
     "timestamp": 1730705527343,
     "user": {
      "displayName": "Prantik Mukhopadhyay",
      "userId": "00946905323502396209"
     },
     "user_tz": -330
    },
    "id": "CYOKgzwWFkkg",
    "outputId": "aaa941b1-503d-4b43-e1c7-c7c86afe6ede"
   },
   "outputs": [
    {
     "name": "stdout",
     "output_type": "stream",
     "text": [
      "5 10 15\n"
     ]
    }
   ],
   "source": [
    "a = 5\n",
    "b = 10\n",
    "c = 15\n",
    "print(a, b, c)"
   ]
  },
  {
   "cell_type": "code",
   "execution_count": 20,
   "metadata": {
    "colab": {
     "base_uri": "https://localhost:8080/"
    },
    "executionInfo": {
     "elapsed": 515,
     "status": "ok",
     "timestamp": 1730706232450,
     "user": {
      "displayName": "Prantik Mukhopadhyay",
      "userId": "00946905323502396209"
     },
     "user_tz": -330
    },
    "id": "yFvv1OX0GP-f",
    "outputId": "7be6bcdd-14fe-4e6c-95cc-6429bff31fab"
   },
   "outputs": [
    {
     "name": "stdout",
     "output_type": "stream",
     "text": [
      "78\n"
     ]
    }
   ],
   "source": [
    "nums = [34, 67, 78, 89, 12]\n",
    "print(nums[2])\n",
    "# nums[2] = 23\n",
    "# print(nums)\n",
    "# print(type(nums))"
   ]
  },
  {
   "cell_type": "code",
   "execution_count": 21,
   "metadata": {
    "colab": {
     "base_uri": "https://localhost:8080/"
    },
    "executionInfo": {
     "elapsed": 506,
     "status": "ok",
     "timestamp": 1730706094550,
     "user": {
      "displayName": "Prantik Mukhopadhyay",
      "userId": "00946905323502396209"
     },
     "user_tz": -330
    },
    "id": "-seFwR0-HoxT",
    "outputId": "528326aa-92c7-4b76-ab82-5b70b7c594e2"
   },
   "outputs": [
    {
     "name": "stdout",
     "output_type": "stream",
     "text": [
      "{1, 2, 3, 6, 8, 9}\n",
      "<class 'set'>\n"
     ]
    }
   ],
   "source": [
    "nums = {2, 2, 6, 8, 8, 9, 3, 1}\n",
    "print(nums)\n",
    "print(type(nums))"
   ]
  },
  {
   "cell_type": "markdown",
   "metadata": {},
   "source": [
    "## Dictionary"
   ]
  },
  {
   "cell_type": "code",
   "execution_count": 22,
   "metadata": {
    "colab": {
     "base_uri": "https://localhost:8080/"
    },
    "executionInfo": {
     "elapsed": 536,
     "status": "ok",
     "timestamp": 1730706419320,
     "user": {
      "displayName": "Prantik Mukhopadhyay",
      "userId": "00946905323502396209"
     },
     "user_tz": -330
    },
    "id": "nYkgXsnyIBH0",
    "outputId": "a6cca8fb-362b-45a6-d974-579480c78d30"
   },
   "outputs": [
    {
     "name": "stdout",
     "output_type": "stream",
     "text": [
      "{'name': 'Prantik', 'age': '20', 'branch': 'IT', 'year': '3rd'}\n",
      "Prantik\n",
      "<class 'dict'>\n"
     ]
    }
   ],
   "source": [
    "info = {\n",
    "    'name': 'Prantik',\n",
    "    'age': '20',\n",
    "    'branch': 'IT',\n",
    "    'year': '3rd'\n",
    "}\n",
    "\n",
    "print(info)\n",
    "print(info['name'])\n",
    "print(type(info))\n"
   ]
  },
  {
   "cell_type": "code",
   "execution_count": 23,
   "metadata": {
    "colab": {
     "base_uri": "https://localhost:8080/"
    },
    "executionInfo": {
     "elapsed": 5,
     "status": "ok",
     "timestamp": 1730706658000,
     "user": {
      "displayName": "Prantik Mukhopadhyay",
      "userId": "00946905323502396209"
     },
     "user_tz": -330
    },
    "id": "AlBBlh9CJEZ1",
    "outputId": "1b74f26a-2140-496c-e7e0-27d4bf4fbbb6"
   },
   "outputs": [
    {
     "name": "stdout",
     "output_type": "stream",
     "text": [
      "5\n"
     ]
    }
   ],
   "source": [
    "nums = [34, 67, 78, 89, 12]\n",
    "print(len(nums))\n",
    "# for n in range(len(nums)):\n",
    "#   print(nums[n])"
   ]
  },
  {
   "cell_type": "markdown",
   "metadata": {},
   "source": [
    "## build in Func"
   ]
  },
  {
   "cell_type": "code",
   "execution_count": null,
   "metadata": {
    "id": "u970GsTqKQjV"
   },
   "outputs": [],
   "source": [
    "print()\n",
    "input()\n",
    "len()"
   ]
  },
  {
   "cell_type": "markdown",
   "metadata": {},
   "source": [
    "## User Defined Func"
   ]
  },
  {
   "cell_type": "code",
   "execution_count": null,
   "metadata": {
    "colab": {
     "base_uri": "https://localhost:8080/"
    },
    "executionInfo": {
     "elapsed": 2864,
     "status": "ok",
     "timestamp": 1730707049519,
     "user": {
      "displayName": "Prantik Mukhopadhyay",
      "userId": "00946905323502396209"
     },
     "user_tz": -330
    },
    "id": "zxh7nw7-KYoY",
    "outputId": "8eb760c6-5118-4b3b-d525-e2f80a8b4711"
   },
   "outputs": [
    {
     "name": "stdout",
     "output_type": "stream",
     "text": [
      "Enter a number: 5\n",
      "Odd\n",
      "Even\n"
     ]
    }
   ],
   "source": [
    "def evenodd(num):\n",
    "  if num % 2 == 0:\n",
    "    print(\"Even\")\n",
    "  else:\n",
    "    print(\"Odd\")\n",
    "\n",
    "a = int(input(\"Enter a number: \"))\n",
    "# print(type(a))\n",
    "evenodd(a)\n",
    "evenodd(10)"
   ]
  },
  {
   "cell_type": "markdown",
   "metadata": {},
   "source": [
    "`Author - Prantik Mukhopadhyay`\n",
    "\n",
    "Connect me on [GitHub](https://github.com/prantikm07) , [LinkedIn](https://www.linkedin.com/in/prantikm07/)"
   ]
  }
 ],
 "metadata": {
  "colab": {
   "authorship_tag": "ABX9TyOSRbw8V0qc+QzVk+xFV9Nk",
   "provenance": []
  },
  "kernelspec": {
   "display_name": "base",
   "language": "python",
   "name": "python3"
  },
  "language_info": {
   "codemirror_mode": {
    "name": "ipython",
    "version": 3
   },
   "file_extension": ".py",
   "mimetype": "text/x-python",
   "name": "python",
   "nbconvert_exporter": "python",
   "pygments_lexer": "ipython3",
   "version": "3.12.4"
  }
 },
 "nbformat": 4,
 "nbformat_minor": 0
}
